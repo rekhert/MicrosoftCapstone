{
 "cells": [
  {
   "cell_type": "code",
   "execution_count": 1,
   "metadata": {
    "collapsed": true
   },
   "outputs": [],
   "source": [
    "import pandas as pd\n",
    "import numpy as np\n",
    "import matplotlib.pyplot as plt\n",
    "%matplotlib inline"
   ]
  },
  {
   "cell_type": "code",
   "execution_count": 4,
   "metadata": {
    "collapsed": true
   },
   "outputs": [],
   "source": [
    "#Object_creation\n",
    "train_df = pd.read_csv('C:/Users/YekaterinaRekhart/Desktop/Microsoft Capstone/train_values.csv')\n",
    "labels_df = pd.read_csv('C:/Users/YekaterinaRekhart/Desktop/Microsoft Capstone/train_labels.csv')"
   ]
  },
  {
   "cell_type": "code",
   "execution_count": 10,
   "metadata": {
    "collapsed": false
   },
   "outputs": [],
   "source": [
    "new_df = train_df.merge(labels_df, left_on='row_id', right_on='row_id', how='inner')"
   ]
  },
  {
   "cell_type": "code",
   "execution_count": 11,
   "metadata": {
    "collapsed": false,
    "scrolled": true
   },
   "outputs": [
    {
     "name": "stdout",
     "output_type": "stream",
     "text": [
      "['row_id' 'area__rucc' 'area__urban_influence' 'econ__economic_typology'\n",
      " 'econ__pct_civilian_labor' 'econ__pct_unemployment'\n",
      " 'econ__pct_uninsured_adults' 'econ__pct_uninsured_children'\n",
      " 'demo__pct_female' 'demo__pct_below_18_years_of_age'\n",
      " 'demo__pct_aged_65_years_and_older' 'demo__pct_hispanic'\n",
      " 'demo__pct_non_hispanic_african_american' 'demo__pct_non_hispanic_white'\n",
      " 'demo__pct_american_indian_or_alaskan_native' 'demo__pct_asian'\n",
      " 'demo__pct_adults_less_than_a_high_school_diploma'\n",
      " 'demo__pct_adults_with_high_school_diploma'\n",
      " 'demo__pct_adults_with_some_college'\n",
      " 'demo__pct_adults_bachelors_or_higher' 'demo__birth_rate_per_1k'\n",
      " 'demo__death_rate_per_1k' 'health__pct_adult_obesity'\n",
      " 'health__pct_adult_smoking' 'health__pct_diabetes'\n",
      " 'health__pct_low_birthweight' 'health__pct_excessive_drinking'\n",
      " 'health__pct_physical_inacticity'\n",
      " 'health__air_pollution_particulate_matter' 'health__homicides_per_100k'\n",
      " 'health__motor_vehicle_crash_deaths_per_100k' 'health__pop_per_dentist'\n",
      " 'health__pop_per_primary_care_physician' 'yr' 'poverty_rate']\n"
     ]
    }
   ],
   "source": [
    "print(new_df.columns.values)"
   ]
  },
  {
   "cell_type": "code",
   "execution_count": 12,
   "metadata": {
    "collapsed": false
   },
   "outputs": [
    {
     "data": {
      "text/plain": [
       "-0.35325426649518127"
      ]
     },
     "execution_count": 12,
     "metadata": {},
     "output_type": "execute_result"
    }
   ],
   "source": [
    "new_df['health__pct_excessive_drinking'].corr(new_df['poverty_rate'])"
   ]
  },
  {
   "cell_type": "code",
   "execution_count": 13,
   "metadata": {
    "collapsed": false
   },
   "outputs": [
    {
     "data": {
      "text/plain": [
       "0.39545651220732003"
      ]
     },
     "execution_count": 13,
     "metadata": {},
     "output_type": "execute_result"
    }
   ],
   "source": [
    "new_df['health__pct_adult_smoking'].corr(new_df['poverty_rate'])"
   ]
  },
  {
   "cell_type": "code",
   "execution_count": 14,
   "metadata": {
    "collapsed": false
   },
   "outputs": [
    {
     "data": {
      "text/plain": [
       "0.53703847009387873"
      ]
     },
     "execution_count": 14,
     "metadata": {},
     "output_type": "execute_result"
    }
   ],
   "source": [
    "new_df['health__pct_diabetes'].corr(new_df['poverty_rate'])"
   ]
  },
  {
   "cell_type": "code",
   "execution_count": 15,
   "metadata": {
    "collapsed": false
   },
   "outputs": [
    {
     "data": {
      "text/plain": [
       "0.44429253924236312"
      ]
     },
     "execution_count": 15,
     "metadata": {},
     "output_type": "execute_result"
    }
   ],
   "source": [
    "new_df['health__pct_adult_obesity'].corr(new_df['poverty_rate'])"
   ]
  },
  {
   "cell_type": "code",
   "execution_count": null,
   "metadata": {
    "collapsed": true
   },
   "outputs": [],
   "source": []
  }
 ],
 "metadata": {
  "kernelspec": {
   "display_name": "Python 3",
   "language": "python",
   "name": "python3"
  },
  "language_info": {
   "codemirror_mode": {
    "name": "ipython",
    "version": 3
   },
   "file_extension": ".py",
   "mimetype": "text/x-python",
   "name": "python",
   "nbconvert_exporter": "python",
   "pygments_lexer": "ipython3",
   "version": "3.6.0"
  }
 },
 "nbformat": 4,
 "nbformat_minor": 2
}
